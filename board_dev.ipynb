{
 "cells": [
  {
   "cell_type": "code",
   "execution_count": 1,
   "id": "ancient-poker",
   "metadata": {},
   "outputs": [],
   "source": [
    "import numpy as np\n",
    "\n",
    "from board import Board, create_board, random_board, regenerate_apples, NEIGHBOR_KERNEL, initial_position, HarvestEnv\n",
    "\n",
    "import matplotlib.pyplot as plt\n",
    "\n",
    "from IPython.display import Video\n",
    "\n",
    "\n",
    "from celluloid import Camera"
   ]
  },
  {
   "cell_type": "code",
   "execution_count": 2,
   "id": "challenging-finding",
   "metadata": {},
   "outputs": [],
   "source": [
    "env = HarvestEnv(num_agents=9, size=(10, 10))"
   ]
  },
  {
   "cell_type": "code",
   "execution_count": 3,
   "id": "national-philadelphia",
   "metadata": {},
   "outputs": [],
   "source": [
    "env.reset()"
   ]
  },
  {
   "cell_type": "code",
   "execution_count": 9,
   "id": "other-noise",
   "metadata": {},
   "outputs": [
    {
     "data": {
      "image/png": "[encoded data removed]",
      "text/plain": [
       "<Figure size 432x288 with 1 Axes>"
      ]
     },
     "metadata": {
      "needs_background": "light"
     },
     "output_type": "display_data"
    }
   ],
   "source": [
    "fig, ax = plt.subplots()"
   ]
  },
  {
   "cell_type": "code",
   "execution_count": 5,
   "id": "theoretical-average",
   "metadata": {},
   "outputs": [],
   "source": [
    "env.render(ax)"
   ]
  },
  {
   "cell_type": "code",
   "execution_count": 6,
   "id": "proof-jewelry",
   "metadata": {},
   "outputs": [
    {
     "data": {
      "image/png": "[encoded data removed]",
      "text/plain": [
       "<Figure size 432x288 with 1 Axes>"
      ]
     },
     "execution_count": 6,
     "metadata": {},
     "output_type": "execute_result"
    }
   ],
   "source": [
    "fig"
   ]
  },
  {
   "cell_type": "code",
   "execution_count": 78,
   "id": "sharing-alpha",
   "metadata": {},
   "outputs": [
    {
     "data": {
      "image/png": "[encoded data removed]",
      "text/plain": [
       "<Figure size 432x288 with 1 Axes>"
      ]
     },
     "metadata": {
      "needs_background": "light"
     },
     "output_type": "display_data"
    }
   ],
   "source": [
    "fig, ax = plt.subplots()\n",
    "\n",
    "camera = Camera(fig)\n",
    "\n",
    "board = random_board((20, 20), 0.1)\n",
    "for _ in range(11):\n",
    "    ax.imshow(board, vmin=0, vmax=1, cmap='Greens')\n",
    "    camera.snap()\n",
    "    board = regenerate_apples(board, 0.01)\n",
    "    \n",
    "\n",
    "animation = camera.animate()\n",
    "\n",
    "animation.save(\"animation.mp4\")"
   ]
  },
  {
   "cell_type": "code",
   "execution_count": 79,
   "id": "received-option",
   "metadata": {},
   "outputs": [
    {
     "data": {
      "text/html": [
       "<video src=\"animation.mp4\" controls  >\n",
       "      Your browser does not support the <code>video</code> element.\n",
       "    </video>"
      ],
      "text/plain": [
       "<IPython.core.display.Video object>"
      ]
     },
     "execution_count": 79,
     "metadata": {},
     "output_type": "execute_result"
    }
   ],
   "source": [
    "Video(\"animation.mp4\")"
   ]
  },
  {
   "cell_type": "code",
   "execution_count": 60,
   "id": "recognized-cigarette",
   "metadata": {},
   "outputs": [],
   "source": [
    "board = random_board((20, 20), 0.1)"
   ]
  },
  {
   "cell_type": "code",
   "execution_count": 67,
   "id": "million-chancellor",
   "metadata": {},
   "outputs": [
    {
     "data": {
      "image/png": "[encoded data removed]",
      "text/plain": [
       "<Figure size 432x288 with 1 Axes>"
      ]
     },
     "metadata": {
      "needs_background": "light"
     },
     "output_type": "display_data"
    }
   ],
   "source": [
    "board = regenerate_apples(board, 0.1)\n",
    "plt.imshow(board, vmin=0, vmax=1, cmap='Greens')\n",
    "plt.show()"
   ]
  },
  {
   "cell_type": "code",
   "execution_count": 7,
   "id": "worst-generation",
   "metadata": {},
   "outputs": [
    {
     "data": {
      "text/plain": [
       "array([[0.05346025, 0.08249531, 0.01512852, 0.08176923, 0.00550234,\n",
       "        0.04407559, 0.09806409, 0.05878167, 0.09060849, 0.01206607],\n",
       "       [0.0158822 , 0.00893118, 0.04042852, 0.00599816, 0.0444284 ,\n",
       "        0.05784193, 0.05302095, 0.01738979, 0.06666245, 0.07683077],\n",
       "       [0.04694237, 0.08154098, 0.09711544, 0.01663137, 0.04744073,\n",
       "        0.05361036, 0.03221949, 0.05004793, 0.0593102 , 0.00573539],\n",
       "       [0.09841503, 0.03173453, 0.09411567, 0.01780424, 0.09079073,\n",
       "        0.04343235, 0.06469587, 0.05425357, 0.08954677, 0.02628379],\n",
       "       [0.05514882, 0.05196394, 0.02611674, 0.09141044, 0.07627416,\n",
       "        0.0809711 , 0.01280258, 0.06424505, 0.00581737, 0.00085114],\n",
       "       [0.08620917, 0.0237364 , 0.03712565, 0.07909284, 0.03225256,\n",
       "        0.03330955, 0.0090219 , 0.08514902, 0.07645882, 0.09005822],\n",
       "       [0.03030128, 0.05998999, 0.04622217, 0.06232796, 0.00513297,\n",
       "        0.06610781, 0.05489332, 0.01930921, 0.06471113, 0.03380612],\n",
       "       [0.03429706, 0.08892244, 0.07913494, 0.05562333, 0.00688009,\n",
       "        0.06817137, 0.03081108, 0.09164698, 0.005981  , 0.02970607],\n",
       "       [0.02829711, 0.01612861, 0.04228391, 0.06095806, 0.03070996,\n",
       "        0.04049893, 0.0739951 , 0.04255043, 0.09609394, 0.09088514],\n",
       "       [0.05486031, 0.04613874, 0.00378643, 0.07072053, 0.08254371,\n",
       "        0.00518595, 0.09807816, 0.06299207, 0.06329966, 0.07393659]])"
      ]
     },
     "execution_count": 7,
     "metadata": {},
     "output_type": "execute_result"
    }
   ],
   "source": [
    "0.1 * np.random.rand(10, 10)"
   ]
  }
 ],
 "metadata": {
  "kernelspec": {
   "display_name": "Python 3.8 (reputation)",
   "language": "python",
   "name": "reputation"
  },
  "language_info": {
   "codemirror_mode": {
    "name": "ipython",
    "version": 3
   },
   "file_extension": ".py",
   "mimetype": "text/x-python",
   "name": "python",
   "nbconvert_exporter": "python",
   "pygments_lexer": "ipython3",
   "version": "3.8.8"
  }
 },
 "nbformat": 4,
 "nbformat_minor": 5
}
