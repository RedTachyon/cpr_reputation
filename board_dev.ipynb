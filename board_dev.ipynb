{
 "cells": [
  {
   "cell_type": "code",
   "execution_count": 1,
   "metadata": {},
   "outputs": [],
   "source": [
    "from celluloid import Camera\n",
    "from IPython.display import Video\n",
    "import matplotlib.pyplot as plt\n",
    "import numpy as np\n",
    "\n",
    "from cpr_reputation.board import *"
   ]
  },
  {
   "cell_type": "code",
   "execution_count": 2,
   "metadata": {},
   "outputs": [],
   "source": [
    "np.random.seed(1024)"
   ]
  },
  {
   "cell_type": "code",
   "execution_count": 13,
   "metadata": {
    "scrolled": true
   },
   "outputs": [
    {
     "data": {
      "text/plain": [
       "array([[0., 0., 0., 0., 1., 1., 1., 0., 0., 0., 0., 0., 0., 0., 0.],\n",
       "       [0., 0., 0., 0., 0., 1., 0., 0., 0., 0., 0., 0., 0., 0., 0.],\n",
       "       [0., 0., 0., 0., 0., 0., 1., 0., 0., 0., 0., 0., 0., 0., 0.],\n",
       "       [0., 0., 0., 0., 0., 1., 1., 1., 0., 0., 0., 0., 0., 0., 0.],\n",
       "       [0., 0., 0., 0., 0., 0., 1., 0., 0., 1., 0., 0., 0., 0., 0.],\n",
       "       [0., 0., 0., 0., 0., 1., 1., 1., 1., 1., 1., 0., 0., 0., 0.],\n",
       "       [0., 0., 0., 0., 1., 0., 1., 0., 0., 1., 0., 0., 0., 0., 0.],\n",
       "       [0., 0., 0., 1., 1., 1., 0., 0., 0., 0., 0., 0., 0., 0., 0.],\n",
       "       [0., 0., 0., 0., 1., 0., 0., 1., 0., 0., 0., 1., 0., 0., 1.],\n",
       "       [0., 0., 0., 0., 0., 1., 1., 1., 1., 0., 1., 1., 1., 1., 1.],\n",
       "       [0., 0., 0., 0., 1., 1., 1., 1., 0., 0., 0., 1., 0., 0., 1.],\n",
       "       [0., 0., 0., 0., 0., 1., 0., 0., 0., 0., 0., 0., 0., 1., 1.],\n",
       "       [0., 0., 0., 0., 0., 0., 0., 0., 0., 0., 0., 0., 0., 0., 1.],\n",
       "       [0., 0., 0., 0., 0., 0., 0., 0., 0., 0., 0., 0., 0., 0., 0.],\n",
       "       [0., 0., 0., 0., 0., 0., 0., 0., 0., 0., 0., 0., 0., 0., 0.],\n",
       "       [0., 0., 0., 0., 0., 0., 0., 0., 0., 0., 0., 0., 0., 0., 0.],\n",
       "       [0., 0., 0., 0., 0., 0., 0., 0., 0., 0., 0., 0., 0., 1., 0.],\n",
       "       [0., 0., 0., 0., 0., 0., 0., 0., 0., 0., 0., 0., 1., 1., 1.],\n",
       "       [0., 0., 0., 0., 0., 0., 0., 1., 0., 0., 0., 0., 0., 1., 0.],\n",
       "       [0., 0., 0., 0., 0., 0., 1., 1., 1., 0., 0., 0., 0., 0., 0.],\n",
       "       [1., 0., 0., 0., 0., 0., 0., 1., 0., 0., 0., 0., 0., 0., 0.],\n",
       "       [1., 1., 0., 0., 0., 0., 0., 0., 0., 0., 0., 0., 0., 0., 0.],\n",
       "       [1., 0., 0., 0., 0., 0., 0., 0., 0., 0., 0., 0., 0., 0., 0.],\n",
       "       [0., 1., 0., 0., 0., 0., 0., 0., 0., 0., 0., 0., 0., 1., 0.],\n",
       "       [1., 1., 1., 0., 0., 0., 0., 0., 0., 0., 0., 0., 1., 1., 1.]])"
      ]
     },
     "execution_count": 13,
     "metadata": {},
     "output_type": "execute_result"
    }
   ],
   "source": [
    "env = HarvestEnv(num_agents=6, size=(25, 15), num_crosses=15)\n",
    "env.game.board"
   ]
  },
  {
   "cell_type": "code",
   "execution_count": 14,
   "metadata": {},
   "outputs": [
    {
     "name": "stdout",
     "output_type": "stream",
     "text": [
      "Agent0\n",
      "position: (0, 0)\n",
      "rot: 2\n",
      "[top left, bottom right] coordinates of observation: [(0, 0), (20, 10)]\n",
      "observation size: (21, 11)\n",
      "\n",
      "Agent1\n",
      "position: (0, 1)\n",
      "rot: 2\n",
      "[top left, bottom right] coordinates of observation: [(0, 0), (20, 11)]\n",
      "observation size: (21, 12)\n",
      "\n",
      "Agent2\n",
      "position: (0, 2)\n",
      "rot: 1\n",
      "[top left, bottom right] coordinates of observation: [(0, 2), (10, 14)]\n",
      "observation size: (11, 13)\n",
      "\n",
      "Agent3\n",
      "position: (1, 0)\n",
      "rot: 2\n",
      "[top left, bottom right] coordinates of observation: [(1, 0), (21, 10)]\n",
      "observation size: (21, 11)\n",
      "\n",
      "Agent4\n",
      "position: (1, 1)\n",
      "rot: 1\n",
      "[top left, bottom right] coordinates of observation: [(0, 1), (11, 14)]\n",
      "observation size: (12, 14)\n",
      "\n",
      "Agent5\n",
      "position: (1, 2)\n",
      "rot: 2\n",
      "[top left, bottom right] coordinates of observation: [(1, 0), (21, 12)]\n",
      "observation size: (21, 13)\n",
      "\n"
     ]
    }
   ],
   "source": [
    "for name, agent in env.game.agents.items():\n",
    "    print(name)\n",
    "    print(f\"position: {agent.pos}\")\n",
    "    print(f\"rot: {agent.rot}\")\n",
    "    print(f\"[top left, bottom right] coordinates of observation: {env.game.get_observable_window(name)}\") \n",
    "    print(f\"observation size: {env.game.get_agent_obs(name).shape}\\n\")"
   ]
  },
  {
   "cell_type": "code",
   "execution_count": 18,
   "metadata": {},
   "outputs": [
    {
     "data": {
      "text/plain": [
       "array([[0., 0., 0., 0., 1., 1., 1., 0., 0., 0., 0.],\n",
       "       [0., 0., 0., 0., 0., 1., 0., 0., 0., 0., 0.],\n",
       "       [0., 0., 0., 0., 0., 0., 1., 0., 0., 0., 0.],\n",
       "       [0., 0., 0., 0., 0., 1., 1., 1., 0., 0., 0.],\n",
       "       [0., 0., 0., 0., 0., 0., 1., 0., 0., 1., 0.],\n",
       "       [0., 0., 0., 0., 0., 1., 1., 1., 1., 1., 1.],\n",
       "       [0., 0., 0., 0., 1., 0., 1., 0., 0., 1., 0.],\n",
       "       [0., 0., 0., 1., 1., 1., 0., 0., 0., 0., 0.],\n",
       "       [0., 0., 0., 0., 1., 0., 0., 1., 0., 0., 0.],\n",
       "       [0., 0., 0., 0., 0., 1., 1., 1., 1., 0., 1.],\n",
       "       [0., 0., 0., 0., 1., 1., 1., 1., 0., 0., 0.],\n",
       "       [0., 0., 0., 0., 0., 1., 0., 0., 0., 0., 0.],\n",
       "       [0., 0., 0., 0., 0., 0., 0., 0., 0., 0., 0.],\n",
       "       [0., 0., 0., 0., 0., 0., 0., 0., 0., 0., 0.],\n",
       "       [0., 0., 0., 0., 0., 0., 0., 0., 0., 0., 0.],\n",
       "       [0., 0., 0., 0., 0., 0., 0., 0., 0., 0., 0.],\n",
       "       [0., 0., 0., 0., 0., 0., 0., 0., 0., 0., 0.],\n",
       "       [0., 0., 0., 0., 0., 0., 0., 0., 0., 0., 0.],\n",
       "       [0., 0., 0., 0., 0., 0., 0., 1., 0., 0., 0.],\n",
       "       [0., 0., 0., 0., 0., 0., 1., 1., 1., 0., 0.],\n",
       "       [1., 0., 0., 0., 0., 0., 0., 1., 0., 0., 0.]])"
      ]
     },
     "execution_count": 18,
     "metadata": {},
     "output_type": "execute_result"
    }
   ],
   "source": [
    "# agent at (0, 1) looking south\n",
    "env.game.get_agent_obs('Agent1')"
   ]
  },
  {
   "cell_type": "code",
   "execution_count": 19,
   "metadata": {},
   "outputs": [
    {
     "data": {
      "text/plain": [
       "array([[0., 0., 0., 1., 1., 1., 0., 0., 0., 0., 0., 0., 0., 0.],\n",
       "       [0., 0., 0., 0., 1., 0., 0., 0., 0., 0., 0., 0., 0., 0.],\n",
       "       [0., 0., 0., 0., 0., 1., 0., 0., 0., 0., 0., 0., 0., 0.],\n",
       "       [0., 0., 0., 0., 1., 1., 1., 0., 0., 0., 0., 0., 0., 0.],\n",
       "       [0., 0., 0., 0., 0., 1., 0., 0., 1., 0., 0., 0., 0., 0.],\n",
       "       [0., 0., 0., 0., 1., 1., 1., 1., 1., 1., 0., 0., 0., 0.],\n",
       "       [0., 0., 0., 1., 0., 1., 0., 0., 1., 0., 0., 0., 0., 0.],\n",
       "       [0., 0., 1., 1., 1., 0., 0., 0., 0., 0., 0., 0., 0., 0.],\n",
       "       [0., 0., 0., 1., 0., 0., 1., 0., 0., 0., 1., 0., 0., 1.],\n",
       "       [0., 0., 0., 0., 1., 1., 1., 1., 0., 1., 1., 1., 1., 1.],\n",
       "       [0., 0., 0., 1., 1., 1., 1., 0., 0., 0., 1., 0., 0., 1.],\n",
       "       [0., 0., 0., 0., 1., 0., 0., 0., 0., 0., 0., 0., 1., 1.]])"
      ]
     },
     "execution_count": 19,
     "metadata": {},
     "output_type": "execute_result"
    }
   ],
   "source": [
    "# agent at (1, 1) looking east\n",
    "env.game.get_agent_obs('Agent4')"
   ]
  },
  {
   "cell_type": "code",
   "execution_count": 28,
   "metadata": {},
   "outputs": [
    {
     "name": "stdout",
     "output_type": "stream",
     "text": [
      "Agent0 is frozen for 0 steps and has reputation 0\n",
      "Agent1 is frozen for 25 steps and has reputation 0\n",
      "Agent2 is frozen for 25 steps and has reputation 0\n",
      "Agent3 is frozen for 0 steps and has reputation 0\n",
      "Agent4 is frozen for 0 steps and has reputation 7\n",
      "Agent5 is frozen for 25 steps and has reputation 0\n"
     ]
    }
   ],
   "source": [
    "# agent at (1, 1) looking east zaps agents at (0, 1), (0, 2), (1, 2)\n",
    "env.game.process_action('Agent4', 6)\n",
    "for name, agent in env.game.agents.items(): \n",
    "    print(f\"{name} is frozen for {agent.frozen} steps and has reputation {env.game.reputation[name]}\")"
   ]
  },
  {
   "cell_type": "code",
   "execution_count": 5,
   "metadata": {},
   "outputs": [
    {
     "name": "stdout",
     "output_type": "stream",
     "text": [
      "Agent0 Walker(pos=Position(i=0, j=0), rot=2, frozen=0)\n",
      "Agent1 Walker(pos=Position(i=0, j=1), rot=2, frozen=25)\n",
      "Agent2 Walker(pos=Position(i=0, j=2), rot=2, frozen=25)\n",
      "Agent3 Walker(pos=Position(i=0, j=3), rot=2, frozen=25)\n",
      "Agent4 Walker(pos=Position(i=1, j=0), rot=2, frozen=25)\n",
      "Agent5 Walker(pos=Position(i=1, j=1), rot=2, frozen=25)\n",
      "Agent6 Walker(pos=Position(i=1, j=2), rot=2, frozen=25)\n",
      "Agent7 Walker(pos=Position(i=1, j=3), rot=2, frozen=25)\n",
      "Agent8 Walker(pos=Position(i=2, j=0), rot=2, frozen=25)\n",
      "Agent9 Walker(pos=Position(i=2, j=1), rot=2, frozen=25)\n"
     ]
    }
   ],
   "source": [
    "env = HarvestGame(num_agents=10, size=(50, 50))\n",
    "for _, agent in env.agents.items():\n",
    "    agent.rot = 2\n",
    "env.process_action(\"Agent0\", SHOOT)\n",
    "assert env.reputation[\"Agent0\"] == 1\n",
    "for i in range(1, 4):\n",
    "    assert env.reputation[f\"Agent{i}\"] == 0\n",
    "for name, agent in env.agents.items():\n",
    "    print(name, agent)"
   ]
  },
  {
   "cell_type": "code",
   "execution_count": 6,
   "metadata": {},
   "outputs": [
    {
     "data": {
      "text/plain": [
       "(Position(i=12, j=6), Position(i=2, j=-4))"
      ]
     },
     "execution_count": 6,
     "metadata": {},
     "output_type": "execute_result"
    }
   ],
   "source": [
    "env.get_beam_bounds(\"Agent9\")"
   ]
  },
  {
   "cell_type": "markdown",
   "metadata": {},
   "source": [
    "# unit test: test_agent_get_obs_board_items"
   ]
  },
  {
   "cell_type": "code",
   "execution_count": 39,
   "metadata": {},
   "outputs": [],
   "source": [
    "from cpr_reputation.board import HarvestGame, create_board\n",
    "import numpy as np\n",
    "size = (4, 6)\n",
    "apples = [(0, 5), (2, 3)]\n",
    "env = HarvestGame(num_agents=4, size=size)\n",
    "\n",
    "env.board = create_board(size, apples)\n",
    "for agent_id, agent in env.agents.items():\n",
    "    agent.rot = 2  # south"
   ]
  },
  {
   "cell_type": "code",
   "execution_count": 40,
   "metadata": {},
   "outputs": [],
   "source": [
    "obs = env.get_agent_obs(\"Agent3\")  # facing south\n",
    "obs_apples = np.where(obs[:, :, 0])\n",
    "obs_agents = np.where(obs[:, :, 1])\n",
    "obs_walls = np.where(obs[:, :, 2])\n",
    "\n",
    "expected_apples = [(19, 6), (19, 8), (18, 9), (18, 8), (18, 7), (17, 8)]\n",
    "expected_agents = [(19, 10), (19, 11)]\n",
    "expected_walls = [(17, 6), (17, 7), (17, 8), (17, 9), (17, 10), (17, 11), (18, 6), (18, 11), (19, 6), (19, 11)]\n",
    "\n",
    "assert sorted(zip(*obs_apples)) == sorted(expected_apples)\n",
    "assert sorted(zip(*obs_agents)) == sorted(expected_agents)\n",
    "assert sorted(zip(*obs_walls)) == sorted(expected_walls)\n",
    "\n",
    "env._rotate_agent(\"Agent3\", -1)  # facing east\n",
    "obs = env.get_agent_obs(\"Agent3\")\n",
    "obs_apples = np.where(obs[:, :, 0])\n",
    "obs_agents = np.where(obs[:, :, 1])\n",
    "obs_walls = np.where(obs[:, :, 2])\n",
    "\n",
    "expected_apples = [\n",
    "    (15, 9),\n",
    "    (15, 10),\n",
    "    (16, 9),\n",
    "    (16, 11),\n",
    "    (17, 10),\n",
    "    (17, 11),\n",
    "    (17, 12),\n",
    "    (18, 11),\n",
    "]\n",
    "\n",
    "expected_agents = [(19, 9), (19, 10)]\n",
    "expected_walls = [(15, 9), (15, 10), (15, 11), (15, 12), (16, 9), (16, 12), (17, 9), (17, 12), (18, 9), (18, 12), (19, 9), (19, 12)]\n",
    "\n",
    "assert sorted(zip(*obs_apples)) == sorted(expected_apples)\n",
    "assert sorted(zip(*obs_agents)) == sorted(expected_agents)\n",
    "assert sorted(zip(*obs_walls)) == sorted(expected_walls)\n",
    "\n",
    "env._rotate_agent(\"Agent3\", -1)  # facing north\n",
    "obs = env.get_agent_obs(\"Agent3\")\n",
    "obs_apples = np.where(obs[:, :, 0])\n",
    "obs_agents = np.where(obs[:, :, 1])\n",
    "obs_walls = np.where(obs[:, :, 2])\n",
    "\n",
    "expected_apples = [(18, 13), (18, 14), (19, 12), (19, 14)]\n",
    "expected_agents = [(18, 9), (18, 10), (19, 9), (19, 10)]\n",
    "expected_walls = [(18, 9), (18, 10), (18, 11), (18, 12), (18, 13), (18, 14), (19, 9), (19, 14)]\n",
    "\n",
    "assert sorted(zip(*obs_apples)) == sorted(expected_apples)\n",
    "assert sorted(zip(*obs_agents)) == sorted(expected_agents)\n",
    "assert sorted(zip(*obs_walls)) == sorted(expected_walls)\n",
    "\n",
    "env._rotate_agent(\"Agent3\", -1)  # facing west\n",
    "obs = env.get_agent_obs(\"Agent3\")\n",
    "obs_apples = np.where(obs[:, :, 0])\n",
    "obs_agents = np.where(obs[:, :, 1])\n",
    "obs_walls = np.where(obs[:, :, 2])\n",
    "\n",
    "expected_apples = []\n",
    "expected_agents = [(18, 10), (18, 11), (19, 10), (19, 11)]\n",
    "expected_walls = [(18, 8), (18, 9), (18, 10), (18, 11), (19, 8), (19, 11)]\n",
    "\n",
    "assert sorted(zip(*obs_apples)) == sorted(expected_apples)\n",
    "assert sorted(zip(*obs_agents)) == sorted(expected_agents)\n",
    "assert sorted(zip(*obs_walls)) == sorted(expected_walls)\n"
   ]
  },
  {
   "cell_type": "markdown",
   "metadata": {},
   "source": [
    "# is_free for walls"
   ]
  },
  {
   "cell_type": "code",
   "execution_count": 6,
   "metadata": {},
   "outputs": [],
   "source": [
    "from cpr_reputation.board import HarvestGame, create_board, walls_board\n",
    "import numpy as np\n",
    "size = (4, 6)\n",
    "apples = [(0, 5), (2, 3)]\n",
    "env = HarvestGame(num_agents=4, size=size)\n",
    "\n",
    "env.board = create_board(size, apples)\n",
    "for agent_id, agent in env.agents.items():\n",
    "    agent.rot = 2  # south"
   ]
  },
  {
   "cell_type": "code",
   "execution_count": 10,
   "metadata": {},
   "outputs": [
    {
     "data": {
      "text/plain": [
       "[(0, 0),\n",
       " (0, 1),\n",
       " (0, 2),\n",
       " (0, 3),\n",
       " (0, 4),\n",
       " (0, 5),\n",
       " (1, 0),\n",
       " (1, 5),\n",
       " (2, 0),\n",
       " (2, 5),\n",
       " (3, 0),\n",
       " (3, 1),\n",
       " (3, 2),\n",
       " (3, 3),\n",
       " (3, 4),\n",
       " (3, 5)]"
      ]
     },
     "execution_count": 10,
     "metadata": {},
     "output_type": "execute_result"
    }
   ],
   "source": [
    "list(zip(*np.where(walls_board(env.size))))"
   ]
  },
  {
   "cell_type": "code",
   "execution_count": 5,
   "metadata": {},
   "outputs": [
    {
     "data": {
      "text/plain": [
       "\u001b[0;31mSignature:\u001b[0m \u001b[0mcreate_board\u001b[0m\u001b[0;34m(\u001b[0m\u001b[0msize\u001b[0m\u001b[0;34m:\u001b[0m \u001b[0;34m'Tuple[int, int]'\u001b[0m\u001b[0;34m,\u001b[0m \u001b[0mapples\u001b[0m\u001b[0;34m:\u001b[0m \u001b[0;34m'List[Tuple[int, int]]'\u001b[0m\u001b[0;34m)\u001b[0m \u001b[0;34m->\u001b[0m \u001b[0;34m'Board'\u001b[0m\u001b[0;34m\u001b[0m\u001b[0;34m\u001b[0m\u001b[0m\n",
       "\u001b[0;31mDocstring:\u001b[0m Creates an empty board with a number of cross-shaped apple patterns\n",
       "\u001b[0;31mFile:\u001b[0m      ~/Dropbox/Projects/AISC5/cpr_reputation/cpr_reputation/board.py\n",
       "\u001b[0;31mType:\u001b[0m      function\n"
      ]
     },
     "metadata": {},
     "output_type": "display_data"
    }
   ],
   "source": [
    "?create_board"
   ]
  },
  {
   "cell_type": "code",
   "execution_count": null,
   "metadata": {},
   "outputs": [],
   "source": []
  },
  {
   "cell_type": "markdown",
   "metadata": {},
   "source": [
    "# misc"
   ]
  },
  {
   "cell_type": "code",
   "execution_count": 7,
   "metadata": {},
   "outputs": [
    {
     "data": {
      "image/png": "[encoded data removed]",
      "text/plain": [
       "<Figure size 432x288 with 1 Axes>"
      ]
     },
     "execution_count": 7,
     "metadata": {},
     "output_type": "execute_result"
    },
    {
     "data": {
      "image/png": "[encoded data removed]",
      "text/plain": [
       "<Figure size 432x288 with 1 Axes>"
      ]
     },
     "metadata": {
      "needs_background": "light"
     },
     "output_type": "display_data"
    }
   ],
   "source": [
    "fig, ax = plt.subplots()\n",
    "env.game.render(ax)\n",
    "fig"
   ]
  },
  {
   "cell_type": "code",
   "execution_count": 8,
   "metadata": {},
   "outputs": [
    {
     "ename": "NameError",
     "evalue": "name 'regenerate_apples' is not defined",
     "output_type": "error",
     "traceback": [
      "\u001b[0;31m---------------------------------------------------------------------------\u001b[0m",
      "\u001b[0;31mNameError\u001b[0m                                 Traceback (most recent call last)",
      "\u001b[0;32m<ipython-input-8-466bdf1bd0c9>\u001b[0m in \u001b[0;36m<module>\u001b[0;34m\u001b[0m\n\u001b[1;32m      7\u001b[0m     \u001b[0max\u001b[0m\u001b[0;34m.\u001b[0m\u001b[0mimshow\u001b[0m\u001b[0;34m(\u001b[0m\u001b[0mboard\u001b[0m\u001b[0;34m,\u001b[0m \u001b[0mvmin\u001b[0m\u001b[0;34m=\u001b[0m\u001b[0;36m0\u001b[0m\u001b[0;34m,\u001b[0m \u001b[0mvmax\u001b[0m\u001b[0;34m=\u001b[0m\u001b[0;36m1\u001b[0m\u001b[0;34m,\u001b[0m \u001b[0mcmap\u001b[0m\u001b[0;34m=\u001b[0m\u001b[0;34m'Greens'\u001b[0m\u001b[0;34m)\u001b[0m\u001b[0;34m\u001b[0m\u001b[0;34m\u001b[0m\u001b[0m\n\u001b[1;32m      8\u001b[0m     \u001b[0mcamera\u001b[0m\u001b[0;34m.\u001b[0m\u001b[0msnap\u001b[0m\u001b[0;34m(\u001b[0m\u001b[0;34m)\u001b[0m\u001b[0;34m\u001b[0m\u001b[0;34m\u001b[0m\u001b[0m\n\u001b[0;32m----> 9\u001b[0;31m     \u001b[0mboard\u001b[0m \u001b[0;34m=\u001b[0m \u001b[0mregenerate_apples\u001b[0m\u001b[0;34m(\u001b[0m\u001b[0mboard\u001b[0m\u001b[0;34m,\u001b[0m \u001b[0;36m0.01\u001b[0m\u001b[0;34m)\u001b[0m\u001b[0;34m\u001b[0m\u001b[0;34m\u001b[0m\u001b[0m\n\u001b[0m\u001b[1;32m     10\u001b[0m \u001b[0;34m\u001b[0m\u001b[0m\n\u001b[1;32m     11\u001b[0m \u001b[0manimation\u001b[0m \u001b[0;34m=\u001b[0m \u001b[0mcamera\u001b[0m\u001b[0;34m.\u001b[0m\u001b[0manimate\u001b[0m\u001b[0;34m(\u001b[0m\u001b[0;34m)\u001b[0m\u001b[0;34m\u001b[0m\u001b[0;34m\u001b[0m\u001b[0m\n",
      "\u001b[0;31mNameError\u001b[0m: name 'regenerate_apples' is not defined"
     ]
    },
    {
     "data": {
      "image/png": "[encoded data removed]",
      "text/plain": [
       "<Figure size 432x288 with 1 Axes>"
      ]
     },
     "metadata": {
      "needs_background": "light"
     },
     "output_type": "display_data"
    }
   ],
   "source": [
    "fig, ax = plt.subplots()\n",
    "\n",
    "camera = Camera(fig)\n",
    "\n",
    "board = random_board((20, 20), 0.1)\n",
    "for _ in range(11):\n",
    "    ax.imshow(board, vmin=0, vmax=1, cmap='Greens')\n",
    "    camera.snap()\n",
    "    board = regenerate_apples(board, 0.01)\n",
    "    \n",
    "animation = camera.animate()\n",
    "\n",
    "animation.save(\"animation.mp4\")"
   ]
  },
  {
   "cell_type": "code",
   "execution_count": null,
   "metadata": {},
   "outputs": [],
   "source": [
    "Video(\"animation.mp4\")"
   ]
  }
 ],
 "metadata": {
  "kernelspec": {
   "display_name": "Python 3",
   "language": "python",
   "name": "python3"
  },
  "language_info": {
   "codemirror_mode": {
    "name": "ipython",
    "version": 3
   },
   "file_extension": ".py",
   "mimetype": "text/x-python",
   "name": "python",
   "nbconvert_exporter": "python",
   "pygments_lexer": "ipython3",
   "version": "3.8.5"
  }
 },
 "nbformat": 4,
 "nbformat_minor": 5
}
