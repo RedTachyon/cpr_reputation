{
 "cells": [
  {
   "cell_type": "code",
   "execution_count": 1,
   "metadata": {},
   "outputs": [],
   "source": [
    "import numpy as np\n",
    "from board import Board, get_neighbors, random_board, NEIGHBOR_KERNEL\n",
    "import matplotlib.pyplot as plt\n",
    "from collections import defaultdict\n",
    "from scipy.ndimage import convolve\n"
   ]
  },
  {
   "cell_type": "code",
   "execution_count": 2,
   "metadata": {},
   "outputs": [],
   "source": [
    "from numba import njit"
   ]
  },
  {
   "cell_type": "code",
   "execution_count": 7,
   "metadata": {},
   "outputs": [],
   "source": [
    "def regenerate_apples(board: Board):\n",
    "    \"\"\"\n",
    "    Stochastically respawn apples based on number of neighbors:\n",
    "\n",
    "    prob | n_neighbors\n",
    "    ------------------\n",
    "    0    | L = 0\n",
    "    0.01 | L = 1 or 2\n",
    "    0.05 | L = 3 or 4\n",
    "    0.1  | L > 4\n",
    "\n",
    "    Could probably be faster...\n",
    "    \"\"\"\n",
    "    # TODO: I still think this should be a function.\n",
    "    #  Also we need to profile it, it will be slow on large boards (easier to do with a function)\n",
    "    prob_table = defaultdict(lambda: 0.1)\n",
    "    prob_table[0] = 0.0\n",
    "    prob_table[1] = 0.01\n",
    "    prob_table[2] = 0.01\n",
    "    prob_table[3] = 0.05\n",
    "    prob_table[4] = 0.05\n",
    "\n",
    "    prob_map = np.zeros(board.shape)\n",
    "    for row in range(board.shape[0]):\n",
    "        for col in range(board.shape[1]):\n",
    "            pos = (row, col)\n",
    "            neighboring_pos = get_neighbors(pos, board.shape, radius=2)\n",
    "            neighboring_apples = sum([board[r][c] for (r, c) in neighboring_pos])\n",
    "            prob_map[row][col] = prob_table[neighboring_apples]\n",
    "\n",
    "    rand = np.random.rand(*prob_map.shape)\n",
    "    regen_map = rand < prob_map\n",
    "    updated_board = np.clip(board + regen_map, 0, 1)\n",
    "    return updated_board"
   ]
  },
  {
   "cell_type": "code",
   "execution_count": 8,
   "metadata": {},
   "outputs": [],
   "source": [
    "board = random_board((20, 40))"
   ]
  },
  {
   "cell_type": "code",
   "execution_count": 9,
   "metadata": {},
   "outputs": [
    {
     "data": {
      "text/plain": [
       "<matplotlib.image.AxesImage at 0x7fab41111190>"
      ]
     },
     "execution_count": 9,
     "metadata": {},
     "output_type": "execute_result"
    },
    {
     "data": {
      "image/png": "[encoded data removed]",
      "text/plain": [
       "<Figure size 432x288 with 1 Axes>"
      ]
     },
     "metadata": {
      "needs_background": "light"
     },
     "output_type": "display_data"
    }
   ],
   "source": [
    "plt.imshow(board)"
   ]
  },
  {
   "cell_type": "code",
   "execution_count": 10,
   "metadata": {},
   "outputs": [
    {
     "name": "stdout",
     "output_type": "stream",
     "text": [
      "89.4 ms ± 2.47 ms per loop (mean ± std. dev. of 7 runs, 10 loops each)\n"
     ]
    }
   ],
   "source": [
    "%%timeit\n",
    "regenerate_apples(board)"
   ]
  },
  {
   "cell_type": "code",
   "execution_count": 12,
   "metadata": {},
   "outputs": [],
   "source": [
    "from numba import vectorize"
   ]
  },
  {
   "cell_type": "code",
   "execution_count": 13,
   "metadata": {},
   "outputs": [],
   "source": [
    "@vectorize\n",
    "def regrow_prob(n: int) -> float:\n",
    "    if n == 0:\n",
    "        return 0.0\n",
    "    elif n == 1 or n == 2:\n",
    "        return 0.01\n",
    "    elif n == 3 or n == 4:\n",
    "        return 0.05\n",
    "    else:\n",
    "        return 0.1\n",
    "\n",
    "def regenerate_apples(board):\n",
    "    kernel = NEIGHBOR_KERNEL\n",
    "    neighbor_map: np.ndarray = convolve(board, kernel, mode='constant')  # TODO: make sure this is ints\n",
    "    prob_map = regrow_prob(neighbor_map)\n",
    "\n",
    "    rand = np.random.rand(*neighbor_map.shape)\n",
    "    regen_map = rand < prob_map\n",
    "    updated_board = np.clip(board + regen_map, 0, 1)\n",
    "\n",
    "\n",
    "    return updated_board"
   ]
  },
  {
   "cell_type": "code",
   "execution_count": 56,
   "metadata": {},
   "outputs": [
    {
     "name": "stdout",
     "output_type": "stream",
     "text": [
      "63.4 µs ± 4.21 µs per loop (mean ± std. dev. of 7 runs, 10000 loops each)\n"
     ]
    }
   ],
   "source": [
    "%%timeit\n",
    "regenerate_apples(board)"
   ]
  },
  {
   "cell_type": "code",
   "execution_count": 2,
   "metadata": {},
   "outputs": [],
   "source": [
    "import numpy as np"
   ]
  },
  {
   "cell_type": "code",
   "execution_count": 9,
   "metadata": {},
   "outputs": [],
   "source": [
    "board = np.random.rand(100, 100, 3)"
   ]
  },
  {
   "cell_type": "code",
   "execution_count": 10,
   "metadata": {},
   "outputs": [
    {
     "name": "stdout",
     "output_type": "stream",
     "text": [
      "8.24 µs ± 154 ns per loop (mean ± std. dev. of 7 runs, 100000 loops each)\n"
     ]
    }
   ],
   "source": [
    "%%timeit\n",
    "np.rot90(board)"
   ]
  }
 ],
 "metadata": {
  "kernelspec": {
   "display_name": "Python 3.8 (reputation)",
   "language": "python",
   "name": "reputation"
  },
  "language_info": {
   "codemirror_mode": {
    "name": "ipython",
    "version": 3
   },
   "file_extension": ".py",
   "mimetype": "text/x-python",
   "name": "python",
   "nbconvert_exporter": "python",
   "pygments_lexer": "ipython3",
   "version": "3.8.8"
  }
 },
 "nbformat": 4,
 "nbformat_minor": 4
}
