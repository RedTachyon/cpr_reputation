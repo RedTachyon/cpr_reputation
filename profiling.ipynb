{
 "cells": [
  {
   "cell_type": "code",
   "execution_count": 1,
   "metadata": {},
   "outputs": [],
   "source": [
    "import numpy as np\n",
    "from cpr_reputation.board import Board, get_neighbors, random_board, NEIGHBOR_KERNEL, HarvestGame, Position\n",
    "import matplotlib.pyplot as plt\n",
    "from collections import defaultdict\n",
    "from scipy.ndimage import convolve\n"
   ]
  },
  {
   "cell_type": "code",
   "execution_count": null,
   "metadata": {},
   "outputs": [],
   "source": [
    "game = HarvestGame(10, (20, 20))"
   ]
  },
  {
   "cell_type": "code",
   "execution_count": 3,
   "metadata": {},
   "outputs": [
    {
     "data": {
      "text/plain": [
       "(20, 21, 3)"
      ]
     },
     "execution_count": 3,
     "metadata": {},
     "output_type": "execute_result"
    }
   ],
   "source": [
    "game.get_agent_obs(\"Agent3\").shape"
   ]
  },
  {
   "cell_type": "code",
   "execution_count": 5,
   "metadata": {},
   "outputs": [
    {
     "data": {
      "text/plain": [
       "(Position(i=1, j=0), Position(i=0, j=-1))"
      ]
     },
     "execution_count": 5,
     "metadata": {},
     "output_type": "execute_result"
    }
   ],
   "source": [
    "game.get_beam_bounds(\"Agent0\")"
   ]
  },
  {
   "cell_type": "code",
   "execution_count": 21,
   "metadata": {},
   "outputs": [
    {
     "data": {
      "text/plain": [
       "10"
      ]
     },
     "execution_count": 21,
     "metadata": {},
     "output_type": "execute_result"
    }
   ],
   "source": [
    "game.beam_dist"
   ]
  },
  {
   "cell_type": "code",
   "execution_count": 20,
   "metadata": {},
   "outputs": [
    {
     "data": {
      "text/plain": [
       "{'Agent0': Walker(pos=Position(i=0, j=0), rot=0, frozen=0),\n",
       " 'Agent1': Walker(pos=Position(i=0, j=1), rot=0, frozen=0),\n",
       " 'Agent2': Walker(pos=Position(i=0, j=2), rot=0, frozen=0),\n",
       " 'Agent3': Walker(pos=Position(i=0, j=3), rot=3, frozen=0),\n",
       " 'Agent4': Walker(pos=Position(i=1, j=0), rot=0, frozen=0),\n",
       " 'Agent5': Walker(pos=Position(i=1, j=1), rot=2, frozen=0),\n",
       " 'Agent6': Walker(pos=Position(i=1, j=2), rot=0, frozen=0),\n",
       " 'Agent7': Walker(pos=Position(i=1, j=3), rot=2, frozen=0),\n",
       " 'Agent8': Walker(pos=Position(i=2, j=0), rot=2, frozen=0),\n",
       " 'Agent9': Walker(pos=Position(i=2, j=1), rot=0, frozen=0)}"
      ]
     },
     "execution_count": 20,
     "metadata": {},
     "output_type": "execute_result"
    }
   ],
   "source": [
    "game.agents"
   ]
  },
  {
   "cell_type": "code",
   "execution_count": 18,
   "metadata": {},
   "outputs": [
    {
     "data": {
      "text/plain": [
       "Position(i=5, j=7)"
      ]
     },
     "execution_count": 18,
     "metadata": {},
     "output_type": "execute_result"
    }
   ],
   "source": [
    "Position(1, 0) * 5 + Position(0, 1) * 7"
   ]
  },
  {
   "cell_type": "code",
   "execution_count": null,
   "metadata": {},
   "outputs": [],
   "source": []
  },
  {
   "cell_type": "code",
   "execution_count": 13,
   "metadata": {},
   "outputs": [],
   "source": [
    "from numba import njit"
   ]
  },
  {
   "cell_type": "code",
   "execution_count": 17,
   "metadata": {},
   "outputs": [],
   "source": [
    "foo = np.random.randint(2, size=(20, 20))"
   ]
  },
  {
   "cell_type": "code",
   "execution_count": 69,
   "metadata": {},
   "outputs": [],
   "source": [
    "foo = np.random.rand(100, 200)"
   ]
  },
  {
   "cell_type": "code",
   "execution_count": 70,
   "metadata": {},
   "outputs": [
    {
     "name": "stdout",
     "output_type": "stream",
     "text": [
      "21.5 µs ± 699 ns per loop (mean ± std. dev. of 7 runs, 10000 loops each)\n"
     ]
    }
   ],
   "source": [
    "%%timeit\n",
    "bar = np.ascontiguousarray(np.rot90(foo))"
   ]
  },
  {
   "cell_type": "code",
   "execution_count": 71,
   "metadata": {},
   "outputs": [
    {
     "name": "stdout",
     "output_type": "stream",
     "text": [
      "13.4 µs ± 580 ns per loop (mean ± std. dev. of 7 runs, 100000 loops each)\n"
     ]
    }
   ],
   "source": [
    "%%timeit\n",
    "bar = np.ascontiguousarray(foo.T[::-1])"
   ]
  },
  {
   "cell_type": "code",
   "execution_count": 56,
   "metadata": {},
   "outputs": [
    {
     "data": {
      "text/plain": [
       "<function numpy.ascontiguousarray(a, dtype=None)>"
      ]
     },
     "execution_count": 56,
     "metadata": {},
     "output_type": "execute_result"
    }
   ],
   "source": [
    "np.ascontiguousarray"
   ]
  },
  {
   "cell_type": "code",
   "execution_count": 47,
   "metadata": {},
   "outputs": [
    {
     "name": "stdout",
     "output_type": "stream",
     "text": [
      "6.78 µs ± 123 ns per loop (mean ± std. dev. of 7 runs, 100000 loops each)\n"
     ]
    }
   ],
   "source": [
    "%%timeit\n",
    "bar = np.rot90(foo, 2)"
   ]
  },
  {
   "cell_type": "code",
   "execution_count": 48,
   "metadata": {},
   "outputs": [
    {
     "name": "stdout",
     "output_type": "stream",
     "text": [
      "248 ns ± 6.17 ns per loop (mean ± std. dev. of 7 runs, 1000000 loops each)\n"
     ]
    }
   ],
   "source": [
    "%%timeit\n",
    "bar = foo[::-1,::-1]"
   ]
  },
  {
   "cell_type": "code",
   "execution_count": 93,
   "metadata": {},
   "outputs": [],
   "source": [
    "foo = np.arange(12).reshape((3,4))"
   ]
  },
  {
   "cell_type": "code",
   "execution_count": 96,
   "metadata": {},
   "outputs": [],
   "source": [
    "bar = np.arange(28).reshape((7,4))"
   ]
  },
  {
   "cell_type": "code",
   "execution_count": 103,
   "metadata": {},
   "outputs": [
    {
     "data": {
      "text/plain": [
       "array([[ 0,  1,  2,  3],\n",
       "       [ 4,  5,  6,  7],\n",
       "       [ 8,  9, 10, 11],\n",
       "       [ 0,  1,  2,  3],\n",
       "       [ 4,  5,  6,  7],\n",
       "       [ 8,  9, 10, 11],\n",
       "       [12, 13, 14, 15],\n",
       "       [16, 17, 18, 19],\n",
       "       [20, 21, 22, 23],\n",
       "       [24, 25, 26, 27]])"
      ]
     },
     "execution_count": 103,
     "metadata": {},
     "output_type": "execute_result"
    }
   ],
   "source": [
    "np.concatenate((foo, bar), axis=0)"
   ]
  },
  {
   "cell_type": "code",
   "execution_count": 76,
   "metadata": {},
   "outputs": [
    {
     "data": {
      "text/plain": [
       "False"
      ]
     },
     "execution_count": 76,
     "metadata": {},
     "output_type": "execute_result"
    }
   ],
   "source": [
    "bar = foo.T[::-1]\n",
    "bar.data.contiguous"
   ]
  },
  {
   "cell_type": "code",
   "execution_count": 89,
   "metadata": {},
   "outputs": [],
   "source": [
    "foo = np.zeros((30, 30))"
   ]
  },
  {
   "cell_type": "code",
   "execution_count": 90,
   "metadata": {},
   "outputs": [],
   "source": [
    "i, j = 20, 15\n",
    "foo[i, j] = 1\n",
    "bar = foo[i - 19: i + 1, j-10:j+11]"
   ]
  },
  {
   "cell_type": "code",
   "execution_count": 92,
   "metadata": {},
   "outputs": [
    {
     "data": {
      "text/plain": [
       "<matplotlib.image.AxesImage at 0x7fa440dbc790>"
      ]
     },
     "execution_count": 92,
     "metadata": {},
     "output_type": "execute_result"
    },
    {
     "data": {
      "image/png": "[encoded data removed]",
      "text/plain": [
       "<Figure size 432x288 with 1 Axes>"
      ]
     },
     "metadata": {
      "needs_background": "light"
     },
     "output_type": "display_data"
    }
   ],
   "source": [
    "plt.imshow(bar)"
   ]
  },
  {
   "cell_type": "code",
   "execution_count": 87,
   "metadata": {},
   "outputs": [
    {
     "data": {
      "text/plain": [
       "(20, 21)"
      ]
     },
     "execution_count": 87,
     "metadata": {},
     "output_type": "execute_result"
    }
   ],
   "source": [
    "bar.shape"
   ]
  },
  {
   "cell_type": "code",
   "execution_count": 77,
   "metadata": {},
   "outputs": [],
   "source": [
    "bar = np.rot90(foo, 1)"
   ]
  },
  {
   "cell_type": "code",
   "execution_count": 78,
   "metadata": {},
   "outputs": [
    {
     "data": {
      "text/plain": [
       "False"
      ]
     },
     "execution_count": 78,
     "metadata": {},
     "output_type": "execute_result"
    }
   ],
   "source": [
    "bar.data.contiguous"
   ]
  },
  {
   "cell_type": "code",
   "execution_count": 67,
   "metadata": {},
   "outputs": [
    {
     "data": {
      "text/plain": [
       "array([[ 8,  4,  0],\n",
       "       [ 9,  5,  1],\n",
       "       [10,  6,  2],\n",
       "       [11,  7,  3]])"
      ]
     },
     "execution_count": 67,
     "metadata": {},
     "output_type": "execute_result"
    }
   ],
   "source": [
    "foo.T[:,::-1]"
   ]
  },
  {
   "cell_type": "code",
   "execution_count": 53,
   "metadata": {},
   "outputs": [
    {
     "data": {
      "text/plain": [
       "True"
      ]
     },
     "execution_count": 53,
     "metadata": {},
     "output_type": "execute_result"
    }
   ],
   "source": [
    "(foo.T[::-1] == np.rot90(foo)).all()"
   ]
  },
  {
   "cell_type": "code",
   "execution_count": 38,
   "metadata": {},
   "outputs": [
    {
     "data": {
      "text/plain": [
       "array([[11, 10,  9,  8],\n",
       "       [ 7,  6,  5,  4],\n",
       "       [ 3,  2,  1,  0]])"
      ]
     },
     "execution_count": 38,
     "metadata": {},
     "output_type": "execute_result"
    }
   ],
   "source": [
    "foo[::-1,::-1]"
   ]
  },
  {
   "cell_type": "code",
   "execution_count": 40,
   "metadata": {},
   "outputs": [
    {
     "data": {
      "text/plain": [
       "array([[ 3,  7, 11],\n",
       "       [ 2,  6, 10],\n",
       "       [ 1,  5,  9],\n",
       "       [ 0,  4,  8]])"
      ]
     },
     "execution_count": 40,
     "metadata": {},
     "output_type": "execute_result"
    }
   ],
   "source": [
    "np.rot90(foo)"
   ]
  },
  {
   "cell_type": "code",
   "execution_count": 42,
   "metadata": {},
   "outputs": [
    {
     "data": {
      "text/plain": [
       "array([[ 3,  7, 11],\n",
       "       [ 2,  6, 10],\n",
       "       [ 1,  5,  9],\n",
       "       [ 0,  4,  8]])"
      ]
     },
     "execution_count": 42,
     "metadata": {},
     "output_type": "execute_result"
    }
   ],
   "source": [
    "foo.T[::-1]"
   ]
  },
  {
   "cell_type": "code",
   "execution_count": 20,
   "metadata": {},
   "outputs": [
    {
     "data": {
      "text/plain": [
       "array([[ 9, 11,  9,  7,  7,  5,  6,  4,  2,  1,  3,  3,  2,  1,  2,  3,\n",
       "         5,  8, 10, 12],\n",
       "       [10,  8,  8,  8,  8,  6,  4,  4,  3,  4,  3,  2,  3,  3,  2,  4,\n",
       "         6,  7, 10, 11],\n",
       "       [ 7,  9,  9,  7,  6, 10,  5,  2,  5,  6,  3,  2,  4,  5,  5,  3,\n",
       "         5,  8, 10,  9],\n",
       "       [10,  6,  8,  8,  8,  7,  6,  5,  5,  4,  6,  6,  3,  4,  6,  6,\n",
       "         8,  9,  6,  7],\n",
       "       [ 8,  9,  8,  9,  8,  7,  7,  6,  5,  5,  4,  5,  6,  6,  6,  9,\n",
       "         7,  5,  6,  7],\n",
       "       [ 8, 10,  8,  9, 10,  8,  7,  6,  5,  7,  5,  3,  3,  6,  7,  9,\n",
       "         7,  5,  6,  4],\n",
       "       [ 8,  8,  8, 10, 10,  9,  6,  6,  5,  4,  3,  3,  3,  7,  9,  6,\n",
       "         7,  5,  3,  5],\n",
       "       [ 7,  5, 10,  9,  8,  7,  7,  6,  5,  3,  2,  2,  5,  6,  8,  6,\n",
       "         4,  5,  5,  4],\n",
       "       [ 5,  6,  6,  8, 10,  9,  7,  3,  5,  4,  2,  2,  5,  7,  6,  8,\n",
       "         5,  4,  5,  4],\n",
       "       [ 3,  7,  7,  9,  9,  8,  6,  7,  6,  2,  4,  5,  6,  6,  6,  7,\n",
       "         7,  3,  3,  7],\n",
       "       [ 5,  7,  8,  9,  8,  6,  7,  8,  6,  5,  6,  4,  5,  6,  8,  5,\n",
       "         4,  8,  7,  6],\n",
       "       [ 7,  5,  7,  7,  8,  7,  6,  6,  4,  8,  4,  4,  6,  4,  8,  7,\n",
       "         7,  8,  8,  7],\n",
       "       [ 8,  6,  7,  6,  4,  5,  7,  5,  6,  5,  4,  6,  5,  7,  3,  7,\n",
       "         9,  8,  7,  7],\n",
       "       [ 6,  7,  7,  6,  7,  7,  3,  5,  7,  7,  6,  6,  4,  5,  6,  6,\n",
       "         7,  5,  7,  6],\n",
       "       [ 6,  6,  4,  7,  8,  7,  7,  7,  8,  5,  6,  6,  7,  5,  4,  6,\n",
       "         5,  8,  6,  4],\n",
       "       [ 4,  3,  6,  8,  8,  8,  9,  9,  4,  6,  7,  6,  6,  4,  7,  4,\n",
       "         7,  7,  6,  6],\n",
       "       [ 2,  3,  5,  7, 10,  9,  8,  6,  6,  5,  6,  7,  5,  7,  3,  6,\n",
       "         8,  7,  6,  8],\n",
       "       [ 4,  3,  3,  6,  9, 10,  6,  6,  6,  6,  4,  6,  7,  7,  5,  6,\n",
       "         8,  7,  7,  4],\n",
       "       [ 4,  4,  4,  5,  5,  8, 10,  7,  4,  2,  6,  7,  7,  7,  6,  6,\n",
       "         6,  8,  5,  2],\n",
       "       [ 6,  4,  2,  3,  6,  6,  6,  6,  6,  5,  4,  6,  9,  5,  6,  7,\n",
       "         7,  5,  3,  2]])"
      ]
     },
     "execution_count": 20,
     "metadata": {},
     "output_type": "execute_result"
    }
   ],
   "source": [
    "convolve(foo, NEIGHBOR_KERNEL)"
   ]
  },
  {
   "cell_type": "code",
   "execution_count": 7,
   "metadata": {},
   "outputs": [],
   "source": [
    "def regenerate_apples(board: Board):\n",
    "    \"\"\"\n",
    "    Stochastically respawn apples based on number of neighbors:\n",
    "\n",
    "    prob | n_neighbors\n",
    "    ------------------\n",
    "    0    | L = 0\n",
    "    0.01 | L = 1 or 2\n",
    "    0.05 | L = 3 or 4\n",
    "    0.1  | L > 4\n",
    "\n",
    "    Could probably be faster...\n",
    "    \"\"\"\n",
    "    # TODO: I still think this should be a function.\n",
    "    #  Also we need to profile it, it will be slow on large boards (easier to do with a function)\n",
    "    prob_table = defaultdict(lambda: 0.1)\n",
    "    prob_table[0] = 0.0\n",
    "    prob_table[1] = 0.01\n",
    "    prob_table[2] = 0.01\n",
    "    prob_table[3] = 0.05\n",
    "    prob_table[4] = 0.05\n",
    "\n",
    "    prob_map = np.zeros(board.shape)\n",
    "    for row in range(board.shape[0]):\n",
    "        for col in range(board.shape[1]):\n",
    "            pos = (row, col)\n",
    "            neighboring_pos = get_neighbors(pos, board.shape, radius=2)\n",
    "            neighboring_apples = sum([board[r][c] for (r, c) in neighboring_pos])\n",
    "            prob_map[row][col] = prob_table[neighboring_apples]\n",
    "\n",
    "    rand = np.random.rand(*prob_map.shape)\n",
    "    regen_map = rand < prob_map\n",
    "    updated_board = np.clip(board + regen_map, 0, 1)\n",
    "    return updated_board"
   ]
  },
  {
   "cell_type": "code",
   "execution_count": 8,
   "metadata": {},
   "outputs": [],
   "source": [
    "board = random_board((20, 40))"
   ]
  },
  {
   "cell_type": "code",
   "execution_count": 9,
   "metadata": {},
   "outputs": [
    {
     "data": {
      "text/plain": [
       "<matplotlib.image.AxesImage at 0x7fab41111190>"
      ]
     },
     "execution_count": 9,
     "metadata": {},
     "output_type": "execute_result"
    },
    {
     "data": {
      "image/png": "[encoded data removed]",
      "text/plain": [
       "<Figure size 432x288 with 1 Axes>"
      ]
     },
     "metadata": {
      "needs_background": "light"
     },
     "output_type": "display_data"
    }
   ],
   "source": [
    "plt.imshow(board)"
   ]
  },
  {
   "cell_type": "code",
   "execution_count": 10,
   "metadata": {},
   "outputs": [
    {
     "name": "stdout",
     "output_type": "stream",
     "text": [
      "89.4 ms ± 2.47 ms per loop (mean ± std. dev. of 7 runs, 10 loops each)\n"
     ]
    }
   ],
   "source": [
    "%%timeit\n",
    "regenerate_apples(board)"
   ]
  },
  {
   "cell_type": "code",
   "execution_count": 12,
   "metadata": {},
   "outputs": [],
   "source": [
    "from numba import vectorize"
   ]
  },
  {
   "cell_type": "code",
   "execution_count": 13,
   "metadata": {},
   "outputs": [],
   "source": [
    "@vectorize\n",
    "def regrow_prob(n: int) -> float:\n",
    "    if n == 0:\n",
    "        return 0.0\n",
    "    elif n == 1 or n == 2:\n",
    "        return 0.01\n",
    "    elif n == 3 or n == 4:\n",
    "        return 0.05\n",
    "    else:\n",
    "        return 0.1\n",
    "\n",
    "def regenerate_apples(board):\n",
    "    kernel = NEIGHBOR_KERNEL\n",
    "    neighbor_map: np.ndarray = convolve(board, kernel, mode='constant')  # TODO: make sure this is ints\n",
    "    prob_map = regrow_prob(neighbor_map)\n",
    "\n",
    "    rand = np.random.rand(*neighbor_map.shape)\n",
    "    regen_map = rand < prob_map\n",
    "    updated_board = np.clip(board + regen_map, 0, 1)\n",
    "\n",
    "\n",
    "    return updated_board"
   ]
  },
  {
   "cell_type": "code",
   "execution_count": 56,
   "metadata": {},
   "outputs": [
    {
     "name": "stdout",
     "output_type": "stream",
     "text": [
      "63.4 µs ± 4.21 µs per loop (mean ± std. dev. of 7 runs, 10000 loops each)\n"
     ]
    }
   ],
   "source": [
    "%%timeit\n",
    "regenerate_apples(board)"
   ]
  },
  {
   "cell_type": "code",
   "execution_count": 2,
   "metadata": {},
   "outputs": [],
   "source": [
    "import numpy as np"
   ]
  },
  {
   "cell_type": "code",
   "execution_count": 9,
   "metadata": {},
   "outputs": [],
   "source": [
    "board = np.random.rand(100, 100, 3)"
   ]
  },
  {
   "cell_type": "code",
   "execution_count": 10,
   "metadata": {},
   "outputs": [
    {
     "name": "stdout",
     "output_type": "stream",
     "text": [
      "8.24 µs ± 154 ns per loop (mean ± std. dev. of 7 runs, 100000 loops each)\n"
     ]
    }
   ],
   "source": [
    "%%timeit\n",
    "np.rot90(board)"
   ]
  }
 ],
 "metadata": {
  "kernelspec": {
   "display_name": "Python 3",
   "language": "python",
   "name": "python3"
  },
  "language_info": {
   "codemirror_mode": {
    "name": "ipython",
    "version": 3
   },
   "file_extension": ".py",
   "mimetype": "text/x-python",
   "name": "python",
   "nbconvert_exporter": "python",
   "pygments_lexer": "ipython3",
   "version": "3.8.5"
  }
 },
 "nbformat": 4,
 "nbformat_minor": 4
}
